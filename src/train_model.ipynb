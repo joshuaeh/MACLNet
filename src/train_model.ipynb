{
 "cells": [
  {
   "cell_type": "code",
   "execution_count": 1,
   "metadata": {},
   "outputs": [
    {
     "name": "stdout",
     "output_type": "stream",
     "text": [
      "/work/08940/joshuaeh/maverick2/projects/ACLNet/src\n"
     ]
    },
    {
     "name": "stderr",
     "output_type": "stream",
     "text": [
      "/work/08940/joshuaeh/maverick2/miniconda3/envs/tf/lib/python3.10/site-packages/albumentations/augmentations/transforms.py:1613: FutureWarning: This class has been deprecated. Please use RandomBrightnessContrast\n",
      "  warnings.warn(\n",
      "/work/08940/joshuaeh/maverick2/miniconda3/envs/tf/lib/python3.10/site-packages/albumentations/augmentations/transforms.py:1639: FutureWarning: RandomContrast has been deprecated. Please use RandomBrightnessContrast\n",
      "  warnings.warn(\n"
     ]
    }
   ],
   "source": [
    "import os\n",
    "import sys\n",
    "print(os.getcwd())\n",
    "sys.path.append(\"../src\")\n",
    "sys.path.append(\"../src/data/\")\n",
    "sys.path.append(\"../src/models/\")\n",
    "\n",
    "import tensorflow as tf\n",
    "from dataloader import *\n",
    "from network import *\n",
    "from loss import *\n",
    "from config import *\n",
    "from utils import *\n",
    "import logging\n",
    "import os\n",
    "\n",
    "from models.loss import bceDiceLoss, diceCoef\n",
    "sys.path.append(\"/work/08940/joshuaeh/maverick2/miniconda3/lib/:/work/08940/joshuaeh/maverick2/miniconda3/lib/:/work/08940/joshuaeh/maverick2/miniconda3/lib/:/work/08940/joshuaeh/maverick2/miniconda3/envs/tf/lib/:/work/08940/joshuaeh/maverick2/miniconda3/envs/tf/lib/:/work/08940/joshuaeh/maverick2/miniconda3/lib/:/work/08940/joshuaeh/maverick2/miniconda3/envs/tf/lib/:/work/08940/joshuaeh/maverick2/miniconda3/envs/tf/lib/\")"
   ]
  },
  {
   "cell_type": "code",
   "execution_count": 2,
   "metadata": {},
   "outputs": [
    {
     "name": "stdout",
     "output_type": "stream",
     "text": [
      "Num GPUs Available:  0\n"
     ]
    },
    {
     "name": "stderr",
     "output_type": "stream",
     "text": [
      "2022-09-08 09:13:31.507753: W tensorflow/stream_executor/platform/default/dso_loader.cc:64] Could not load dynamic library 'libcuda.so.1'; dlerror: libcuda.so.1: cannot open shared object file: No such file or directory; LD_LIBRARY_PATH: /work/08940/joshuaeh/maverick2/miniconda3/envs/tf/lib/python3.10/site-packages/cv2/../../lib64:/opt/intel/compilers_and_libraries_2018.2.199/linux/mpi/intel64/lib:/opt/intel/debugger_2018/libipt/intel64/lib:/opt/intel/debugger_2018/iga/lib:/opt/intel/compilers_and_libraries_2018.2.199/linux/daal/../tbb/lib/intel64_lin/gcc4.4:/opt/intel/compilers_and_libraries_2018.2.199/linux/daal/lib/intel64_lin:/opt/intel/compilers_and_libraries_2018.2.199/linux/tbb/lib/intel64/gcc4.7:/opt/intel/compilers_and_libraries_2018.2.199/linux/mkl/lib/intel64_lin:/opt/intel/compilers_and_libraries_2018.2.199/linux/compiler/lib/intel64_lin:/opt/intel/compilers_and_libraries_2018.2.199/linux/ipp/lib/intel64:/opt/intel/compilers_and_libraries_2018.2.199/linux/compiler/lib/intel64:/opt/apps/gcc/6.3.0/lib64:/opt/apps/gcc/6.3.0/lib:/work/08940/joshuaeh/maverick2/miniconda3/lib/:/work/08940/joshuaeh/maverick2/miniconda3/lib/:/work/08940/joshuaeh/maverick2/miniconda3/envs/tf/lib/\n",
      "2022-09-08 09:13:31.507821: W tensorflow/stream_executor/cuda/cuda_driver.cc:269] failed call to cuInit: UNKNOWN ERROR (303)\n",
      "2022-09-08 09:13:31.507879: I tensorflow/stream_executor/cuda/cuda_diagnostics.cc:156] kernel driver does not appear to be running on this host (login1.maverick2.tacc.utexas.edu): /proc/driver/nvidia/version does not exist\n"
     ]
    }
   ],
   "source": [
    "print(\"Num GPUs Available: \", len(tf.config.list_physical_devices('GPU')))"
   ]
  },
  {
   "cell_type": "code",
   "execution_count": 14,
   "metadata": {},
   "outputs": [],
   "source": [
    "logging.basicConfig(level = logging.INFO, filename = os.path.join(LOG_DIR, 'app.log'), format='%(asctime)s - %(name)s - %(levelname)s - %(message)s', filemode='w')\n",
    "\n",
    "sys.stdout = LoggerWriter(logging.info)\n",
    "sys.stderr = LoggerWriter(logging.error)\n",
    "\n",
    "logger = logging.getLogger(__name__)\n",
    "\n",
    "logger.info(\"[Info] Getting DataLoader\")\n",
    "trainGen, testGen = getDataLoader(batch_size=BATCH_SIZE)\n",
    "\n",
    "logger.info(\"[Info] Creating Network\") \n",
    "model = tf.keras.models.load_model(\"../weights/ACLNet_Best.h5\", custom_objects={\"bceDiceLoss\":bceDiceLoss, \"diceCoef\":diceCoef})\n",
    "\n",
    "model.compile(optimizer = tf.keras.optimizers.Adam(INITIAL_LEARNING_RATE), loss = bceDiceLoss, metrics = [diceCoef])\n",
    "callbacks = [\n",
    "    tf.keras.callbacks.ModelCheckpoint(os.path.join(WEIGHTS_DIR, 'ACLNet_Best.h5'), monitor = 'val_diceCoef', mode=\"max\", verbose = 1, save_best_only = True, save_weights_only = False),\n",
    "    tf.keras.callbacks.ReduceLROnPlateau(monitor = 'val_diceCoef', mode=\"max\", factor = 0.1, patience = 20, min_lr = 0.00001)\n",
    "]\n",
    "model.fit(trainGen, validation_data = testGen, epochs = EPOCHS, verbose = 1, callbacks = callbacks)\n",
    "logger.info(\"[Info] Training Finished\")"
   ]
  }
 ],
 "metadata": {
  "kernelspec": {
   "display_name": "Python 3.10.4 ('tf': conda)",
   "language": "python",
   "name": "python3"
  },
  "language_info": {
   "codemirror_mode": {
    "name": "ipython",
    "version": 3
   },
   "file_extension": ".py",
   "mimetype": "text/x-python",
   "name": "python",
   "nbconvert_exporter": "python",
   "pygments_lexer": "ipython3",
   "version": "3.10.4"
  },
  "orig_nbformat": 4,
  "vscode": {
   "interpreter": {
    "hash": "63a32d4b2c321d35e9335a90ef9ec89019f5c66d188032f1a20a6653607a74e6"
   }
  }
 },
 "nbformat": 4,
 "nbformat_minor": 2
}
